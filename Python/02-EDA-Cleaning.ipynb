{
 "cells": [
  {
   "cell_type": "code",
   "execution_count": 1,
   "metadata": {},
   "outputs": [],
   "source": [
    "#Importing the libraries we'll need/use:\n",
    "\n",
    "import numpy as np\n",
    "import pandas as pd\n",
    "import matplotlib.pyplot as plt\n",
    "import seaborn as sns\n",
    "import regex"
   ]
  },
  {
   "cell_type": "code",
   "execution_count": 2,
   "metadata": {},
   "outputs": [],
   "source": [
    "#Load in the CSV files we created from our function:\n",
    "\n",
    "future = pd.read_csv('~/Documents/DSIR/Submissions/Projects/project_3/CSV-Data/future.csv')\n",
    "askscience = pd.read_csv('~/Documents/DSIR/Submissions/Projects/project_3/CSV-Data/askscience.csv')"
   ]
  },
  {
   "cell_type": "code",
   "execution_count": 3,
   "metadata": {},
   "outputs": [],
   "source": [
    "future = future[[\"title\", \"num_comments\", \"selftext\", \"subreddit\"]]"
   ]
  },
  {
   "cell_type": "code",
   "execution_count": 4,
   "metadata": {},
   "outputs": [],
   "source": [
    "askscience = askscience[[\"title\", \"num_comments\", \"selftext\", \"subreddit\"]]"
   ]
  },
  {
   "cell_type": "code",
   "execution_count": 6,
   "metadata": {},
   "outputs": [],
   "source": [
    "#Merging into one big DF\n",
    "\n",
    "subreddit = pd.concat([future, askscience])"
   ]
  },
  {
   "cell_type": "code",
   "execution_count": 7,
   "metadata": {},
   "outputs": [
    {
     "data": {
      "text/plain": [
       "title              0\n",
       "num_comments       0\n",
       "selftext        3975\n",
       "subreddit          0\n",
       "dtype: int64"
      ]
     },
     "execution_count": 7,
     "metadata": {},
     "output_type": "execute_result"
    }
   ],
   "source": [
    "subreddit.isnull().sum()"
   ]
  },
  {
   "cell_type": "code",
   "execution_count": 8,
   "metadata": {},
   "outputs": [],
   "source": [
    "subreddit[\"selftext\"].fillna(\" \", inplace = True)"
   ]
  },
  {
   "cell_type": "code",
   "execution_count": 9,
   "metadata": {},
   "outputs": [
    {
     "data": {
      "text/html": [
       "<div>\n",
       "<style scoped>\n",
       "    .dataframe tbody tr th:only-of-type {\n",
       "        vertical-align: middle;\n",
       "    }\n",
       "\n",
       "    .dataframe tbody tr th {\n",
       "        vertical-align: top;\n",
       "    }\n",
       "\n",
       "    .dataframe thead th {\n",
       "        text-align: right;\n",
       "    }\n",
       "</style>\n",
       "<table border=\"1\" class=\"dataframe\">\n",
       "  <thead>\n",
       "    <tr style=\"text-align: right;\">\n",
       "      <th></th>\n",
       "      <th>title</th>\n",
       "      <th>num_comments</th>\n",
       "      <th>selftext</th>\n",
       "      <th>subreddit</th>\n",
       "    </tr>\n",
       "  </thead>\n",
       "  <tbody>\n",
       "    <tr>\n",
       "      <th>0</th>\n",
       "      <td>MDMA-Assisted Therapy For PTSD Likely To Get F...</td>\n",
       "      <td>0</td>\n",
       "      <td></td>\n",
       "      <td>Futurology</td>\n",
       "    </tr>\n",
       "    <tr>\n",
       "      <th>1</th>\n",
       "      <td>Amazing Modern Broiler Chicken Farm Process ! ...</td>\n",
       "      <td>0</td>\n",
       "      <td></td>\n",
       "      <td>Futurology</td>\n",
       "    </tr>\n",
       "    <tr>\n",
       "      <th>2</th>\n",
       "      <td>Global warming is causing species to search fo...</td>\n",
       "      <td>0</td>\n",
       "      <td></td>\n",
       "      <td>Futurology</td>\n",
       "    </tr>\n",
       "    <tr>\n",
       "      <th>3</th>\n",
       "      <td>Digital device serves up a taste of virtual fo...</td>\n",
       "      <td>1</td>\n",
       "      <td></td>\n",
       "      <td>Futurology</td>\n",
       "    </tr>\n",
       "    <tr>\n",
       "      <th>4</th>\n",
       "      <td>Astronomers find the Wolfe Disk, an unlikely g...</td>\n",
       "      <td>0</td>\n",
       "      <td></td>\n",
       "      <td>Futurology</td>\n",
       "    </tr>\n",
       "  </tbody>\n",
       "</table>\n",
       "</div>"
      ],
      "text/plain": [
       "                                               title  num_comments selftext  \\\n",
       "0  MDMA-Assisted Therapy For PTSD Likely To Get F...             0            \n",
       "1  Amazing Modern Broiler Chicken Farm Process ! ...             0            \n",
       "2  Global warming is causing species to search fo...             0            \n",
       "3  Digital device serves up a taste of virtual fo...             1            \n",
       "4  Astronomers find the Wolfe Disk, an unlikely g...             0            \n",
       "\n",
       "    subreddit  \n",
       "0  Futurology  \n",
       "1  Futurology  \n",
       "2  Futurology  \n",
       "3  Futurology  \n",
       "4  Futurology  "
      ]
     },
     "execution_count": 9,
     "metadata": {},
     "output_type": "execute_result"
    }
   ],
   "source": [
    "subreddit.head()"
   ]
  },
  {
   "cell_type": "code",
   "execution_count": 10,
   "metadata": {},
   "outputs": [],
   "source": [
    "#When a reddit post is purged, it's replaced with either \"removed\" (if a moderator purges),\n",
    "#or \"deleted\" (if a user deletes). We can safely remove this text:\n",
    "\n",
    "subreddit[\"selftext\"] = subreddit[\"selftext\"].str.replace(\"\\[removed\\]\", \" \")\n",
    "subreddit[\"selftext\"] = subreddit[\"selftext\"].str.replace(\"\\[deleted\\]\", \" \")"
   ]
  },
  {
   "cell_type": "code",
   "execution_count": 11,
   "metadata": {},
   "outputs": [
    {
     "data": {
      "text/html": [
       "<div>\n",
       "<style scoped>\n",
       "    .dataframe tbody tr th:only-of-type {\n",
       "        vertical-align: middle;\n",
       "    }\n",
       "\n",
       "    .dataframe tbody tr th {\n",
       "        vertical-align: top;\n",
       "    }\n",
       "\n",
       "    .dataframe thead th {\n",
       "        text-align: right;\n",
       "    }\n",
       "</style>\n",
       "<table border=\"1\" class=\"dataframe\">\n",
       "  <thead>\n",
       "    <tr style=\"text-align: right;\">\n",
       "      <th></th>\n",
       "      <th>title</th>\n",
       "      <th>num_comments</th>\n",
       "      <th>selftext</th>\n",
       "      <th>subreddit</th>\n",
       "    </tr>\n",
       "  </thead>\n",
       "  <tbody>\n",
       "    <tr>\n",
       "      <th>0</th>\n",
       "      <td>MDMA-Assisted Therapy For PTSD Likely To Get F...</td>\n",
       "      <td>0</td>\n",
       "      <td></td>\n",
       "      <td>Futurology</td>\n",
       "    </tr>\n",
       "    <tr>\n",
       "      <th>1</th>\n",
       "      <td>Amazing Modern Broiler Chicken Farm Process ! ...</td>\n",
       "      <td>0</td>\n",
       "      <td></td>\n",
       "      <td>Futurology</td>\n",
       "    </tr>\n",
       "    <tr>\n",
       "      <th>2</th>\n",
       "      <td>Global warming is causing species to search fo...</td>\n",
       "      <td>0</td>\n",
       "      <td></td>\n",
       "      <td>Futurology</td>\n",
       "    </tr>\n",
       "    <tr>\n",
       "      <th>3</th>\n",
       "      <td>Digital device serves up a taste of virtual fo...</td>\n",
       "      <td>1</td>\n",
       "      <td></td>\n",
       "      <td>Futurology</td>\n",
       "    </tr>\n",
       "    <tr>\n",
       "      <th>4</th>\n",
       "      <td>Astronomers find the Wolfe Disk, an unlikely g...</td>\n",
       "      <td>0</td>\n",
       "      <td></td>\n",
       "      <td>Futurology</td>\n",
       "    </tr>\n",
       "  </tbody>\n",
       "</table>\n",
       "</div>"
      ],
      "text/plain": [
       "                                               title  num_comments selftext  \\\n",
       "0  MDMA-Assisted Therapy For PTSD Likely To Get F...             0            \n",
       "1  Amazing Modern Broiler Chicken Farm Process ! ...             0            \n",
       "2  Global warming is causing species to search fo...             0            \n",
       "3  Digital device serves up a taste of virtual fo...             1            \n",
       "4  Astronomers find the Wolfe Disk, an unlikely g...             0            \n",
       "\n",
       "    subreddit  \n",
       "0  Futurology  \n",
       "1  Futurology  \n",
       "2  Futurology  \n",
       "3  Futurology  \n",
       "4  Futurology  "
      ]
     },
     "execution_count": 11,
     "metadata": {},
     "output_type": "execute_result"
    }
   ],
   "source": [
    "subreddit.head()"
   ]
  },
  {
   "cell_type": "code",
   "execution_count": 12,
   "metadata": {},
   "outputs": [],
   "source": [
    "#Removing URLs:\n",
    "\n",
    "subreddit[\"selftext\"] = subreddit[\"selftext\"].map(lambda x: regex.sub('http[s]?:\\/\\/[^\\s]*', ' ', x))"
   ]
  },
  {
   "cell_type": "code",
   "execution_count": 13,
   "metadata": {},
   "outputs": [],
   "source": [
    "#Removing any mention of the subreddits:\n",
    "\n",
    "subreddit['selftext'] = subreddit['selftext'].map(lambda x: regex.sub('\\s[\\/]?r\\/[^\\s]+', ' ', x))"
   ]
  },
  {
   "cell_type": "code",
   "execution_count": 14,
   "metadata": {},
   "outputs": [],
   "source": [
    "#Combine the title and selftext column:\n",
    "\n",
    "subreddit['title_selftext'] = subreddit['title'] + \" \" + subreddit['selftext']"
   ]
  },
  {
   "cell_type": "code",
   "execution_count": null,
   "metadata": {},
   "outputs": [],
   "source": [
    "subreddit['title_selftext'] = subreddit['title_selftext'].str.lower()"
   ]
  },
  {
   "cell_type": "code",
   "execution_count": 16,
   "metadata": {},
   "outputs": [],
   "source": [
    "#Removing single quotes:\n",
    "\n",
    "subreddit[\"title_selftext\"] = subreddit[\"title_selftext\"].map(lambda x: regex.sub(\"’\", \"\", x))\n",
    "subreddit[\"title_selftext\"] = subreddit[\"title_selftext\"].map(lambda x: regex.sub(\"'\", \"\", x))"
   ]
  },
  {
   "cell_type": "code",
   "execution_count": 17,
   "metadata": {},
   "outputs": [],
   "source": [
    "#Removing text characters that aren't words or digits:\n",
    "\n",
    "subreddit[\"title_selftext\"] = subreddit[\"title_selftext\"].map(lambda x: regex.sub(\"[^\\w\\d]\", \" \", x))"
   ]
  },
  {
   "cell_type": "code",
   "execution_count": 18,
   "metadata": {},
   "outputs": [],
   "source": [
    "#Removing any text characters that aren't letters:\n",
    "\n",
    "subreddit['title_selftext'] = subreddit['title_selftext'].map(lambda x: regex.sub(\"[^a-zA-Z]\", \" \", x))"
   ]
  },
  {
   "cell_type": "code",
   "execution_count": 19,
   "metadata": {},
   "outputs": [],
   "source": [
    "#There are extra spaces in some of the posts, we should get rid of them to make modeling easier\n",
    "#later:\n",
    "\n",
    "subreddit['title_selftext'] = subreddit['title_selftext'].map(lambda x: regex.sub(\"\\s{2,6}\", \" \", x))"
   ]
  },
  {
   "cell_type": "code",
   "execution_count": 20,
   "metadata": {},
   "outputs": [],
   "source": [
    "subreddit.to_csv('~/Documents/DSIR/Submissions/Projects/project_3/CSV-Data/subreddit.csv', index = False)"
   ]
  }
 ],
 "metadata": {
  "kernelspec": {
   "display_name": "Python 3",
   "language": "python",
   "name": "python3"
  },
  "language_info": {
   "codemirror_mode": {
    "name": "ipython",
    "version": 3
   },
   "file_extension": ".py",
   "mimetype": "text/x-python",
   "name": "python",
   "nbconvert_exporter": "python",
   "pygments_lexer": "ipython3",
   "version": "3.7.6"
  }
 },
 "nbformat": 4,
 "nbformat_minor": 4
}
