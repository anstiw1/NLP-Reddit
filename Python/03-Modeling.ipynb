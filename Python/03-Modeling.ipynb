{
 "cells": [
  {
   "cell_type": "code",
   "execution_count": 1,
   "metadata": {},
   "outputs": [
    {
     "name": "stderr",
     "output_type": "stream",
     "text": [
      "/Users/anshul/opt/anaconda3/lib/python3.7/site-packages/sklearn/utils/deprecation.py:143: FutureWarning: The sklearn.feature_extraction.stop_words module is  deprecated in version 0.22 and will be removed in version 0.24. The corresponding classes / functions should instead be imported from sklearn.feature_extraction.text. Anything that cannot be imported from sklearn.feature_extraction.text is now part of the private API.\n",
      "  warnings.warn(message, FutureWarning)\n"
     ]
    }
   ],
   "source": [
    "import numpy as np\n",
    "import pandas as pd\n",
    "import matplotlib.pyplot as plt\n",
    "import seaborn as sns\n",
    "import regex\n",
    "from nltk.corpus import stopwords\n",
    "from sklearn.feature_extraction import text\n",
    "from sklearn.feature_extraction.text import CountVectorizer, TfidfVectorizer\n",
    "from sklearn.model_selection import train_test_split, GridSearchCV\n",
    "from sklearn.pipeline import Pipeline, FeatureUnion\n",
    "from sklearn.linear_model import LogisticRegression\n",
    "from sklearn.feature_extraction import stop_words\n",
    "from sklearn.naive_bayes import BernoulliNB, GaussianNB, MultinomialNB\n",
    "from sklearn.ensemble import RandomForestClassifier\n",
    "from nltk.stem.porter import PorterStemmer\n",
    "from sklearn.metrics import confusion_matrix, accuracy_score, classification_report, plot_confusion_matrix\n",
    "from nltk.sentiment.vader import SentimentIntensityAnalyzer\n",
    "from sklearn.preprocessing import StandardScaler, FunctionTransformer"
   ]
  },
  {
   "cell_type": "code",
   "execution_count": 2,
   "metadata": {},
   "outputs": [],
   "source": [
    "subreddit = pd.read_csv('~/Documents/DSIR/Submissions/Projects/project_3/CSV-Data/subreddit.csv')"
   ]
  },
  {
   "cell_type": "code",
   "execution_count": 3,
   "metadata": {},
   "outputs": [],
   "source": [
    "#I neglected to drop duplicates in the first EDA notebook, so let's do that first before we do anythign else:\n",
    "\n",
    "subreddit.drop_duplicates(keep='last', inplace = True)"
   ]
  },
  {
   "cell_type": "code",
   "execution_count": 4,
   "metadata": {},
   "outputs": [],
   "source": [
    "#In addition to NLTK's stopwords, there are other stopwords that I want to remove from our dataframe;\n",
    "#I'm also going to remove any 'time-related' stopwords, such as day-of-week, month, time-of-day, as these are\n",
    "#irrelevent to our model:\n",
    "\n",
    "time_stopwords = [\"monday\", \"tuesday\", \"wednesday\", \"thursday\", \"friday\", \"satudray\", \"sunday\", \n",
    "                  \"mon\", \"tues\", \"wed\", \"thurs\", \"fri\", \"sat\", \"sun\", \n",
    "                  \"january\", \"february\", \"march\", \"april\", \"may\", \"june\", \"july\", \"august\", \"september\", \"october\", \"november\", \"december\", \n",
    "                  \"jan\", \"feb\", \"mar\", \"apr\", \"may\", \"jun\", \"jul\", \"aug\", \"sep\", \"oct\", \"nov\", \"dec\", \n",
    "                  \"day\", \"week\", \"weekend\", \"month\", \"year\",\n",
    "                  \"days\", \"weeks\", \"weekends\", \"months\", \"years\"]"
   ]
  },
  {
   "cell_type": "code",
   "execution_count": 5,
   "metadata": {},
   "outputs": [],
   "source": [
    "#Creating our CVEC for singlular words:\n",
    "\n",
    "cvec_1 = CountVectorizer(stop_words=text.ENGLISH_STOP_WORDS.union(time_stopwords),\n",
    "                         min_df = 5,\n",
    "                         ngram_range = (1, 1),\n",
    "                         max_df = 50)"
   ]
  },
  {
   "cell_type": "code",
   "execution_count": 6,
   "metadata": {},
   "outputs": [],
   "source": [
    "#Fitting and transforming data to CVEC:\n",
    "\n",
    "terms_sub = cvec_1.fit_transform(subreddit['title_selftext'])"
   ]
  },
  {
   "cell_type": "code",
   "execution_count": 7,
   "metadata": {},
   "outputs": [],
   "source": [
    "terms_sub_df = pd.DataFrame(terms_sub.toarray(), columns = cvec_1.get_feature_names())"
   ]
  },
  {
   "cell_type": "code",
   "execution_count": 8,
   "metadata": {},
   "outputs": [],
   "source": [
    "#Let's create a boolean of our class columns:\n",
    "# 1 = 'Futurology'\n",
    "# 0 = 'AskScience'\n",
    "\n",
    "subr = np.where(subreddit[\"subreddit\"] == \"Futurology\", 1, 0)"
   ]
  },
  {
   "cell_type": "code",
   "execution_count": 9,
   "metadata": {},
   "outputs": [],
   "source": [
    "#Inserting class columns into the terms_sub_df dataframe:\n",
    "\n",
    "terms_sub_df.insert(0, 'target_subreddit', subr)"
   ]
  },
  {
   "cell_type": "code",
   "execution_count": 10,
   "metadata": {},
   "outputs": [],
   "source": [
    "#Let's create a DF of the top 30 words in either subreddit:\n",
    "\n",
    "top_words = terms_sub_df.groupby('target_subreddit').mean().T.sort_values(0, ascending = False).head(30)"
   ]
  },
  {
   "cell_type": "code",
   "execution_count": 11,
   "metadata": {},
   "outputs": [
    {
     "data": {
      "text/html": [
       "<div>\n",
       "<style scoped>\n",
       "    .dataframe tbody tr th:only-of-type {\n",
       "        vertical-align: middle;\n",
       "    }\n",
       "\n",
       "    .dataframe tbody tr th {\n",
       "        vertical-align: top;\n",
       "    }\n",
       "\n",
       "    .dataframe thead th {\n",
       "        text-align: right;\n",
       "    }\n",
       "</style>\n",
       "<table border=\"1\" class=\"dataframe\">\n",
       "  <thead>\n",
       "    <tr style=\"text-align: right;\">\n",
       "      <th>target_subreddit</th>\n",
       "      <th>0</th>\n",
       "      <th>1</th>\n",
       "    </tr>\n",
       "  </thead>\n",
       "  <tbody>\n",
       "    <tr>\n",
       "      <th>sleep</th>\n",
       "      <td>0.009501</td>\n",
       "      <td>0.003686</td>\n",
       "    </tr>\n",
       "    <tr>\n",
       "      <th>object</th>\n",
       "      <td>0.008692</td>\n",
       "      <td>0.001433</td>\n",
       "    </tr>\n",
       "    <tr>\n",
       "      <th>earths</th>\n",
       "      <td>0.007681</td>\n",
       "      <td>0.002457</td>\n",
       "    </tr>\n",
       "    <tr>\n",
       "      <th>hair</th>\n",
       "      <td>0.007681</td>\n",
       "      <td>0.001024</td>\n",
       "    </tr>\n",
       "    <tr>\n",
       "      <th>eye</th>\n",
       "      <td>0.007479</td>\n",
       "      <td>0.004095</td>\n",
       "    </tr>\n",
       "  </tbody>\n",
       "</table>\n",
       "</div>"
      ],
      "text/plain": [
       "target_subreddit         0         1\n",
       "sleep             0.009501  0.003686\n",
       "object            0.008692  0.001433\n",
       "earths            0.007681  0.002457\n",
       "hair              0.007681  0.001024\n",
       "eye               0.007479  0.004095"
      ]
     },
     "execution_count": 11,
     "metadata": {},
     "output_type": "execute_result"
    }
   ],
   "source": [
    "top_words.head()"
   ]
  },
  {
   "cell_type": "code",
   "execution_count": 71,
   "metadata": {},
   "outputs": [
    {
     "data": {
      "image/png": "[encoded data removed]",
      "text/plain": [
       "<Figure size 1008x720 with 1 Axes>"
      ]
     },
     "metadata": {
      "needs_background": "light"
     },
     "output_type": "display_data"
    }
   ],
   "source": [
    "#Let's create a visualization of the top 20 words in either subreddit:\n",
    "\n",
    "top_words.plot(y=[0, 1], kind=\"barh\", figsize= (14,10))\n",
    "plt.title(\"Most Frequently Used Words in Either Subreddit\")\n",
    "plt.legend(labels=[\"AskScience\", \"Futurology\"], fontsize = 20);"
   ]
  },
  {
   "cell_type": "code",
   "execution_count": 13,
   "metadata": {},
   "outputs": [],
   "source": [
    "#Now that we have the most commonly appearing words, let's take a look at the most common bigrams:\n",
    "\n",
    "cvec_2 = CountVectorizer(stop_words=text.ENGLISH_STOP_WORDS.union(time_stopwords),\n",
    "                         min_df = 5,\n",
    "                         ngram_range = (2, 3),\n",
    "                         max_df = 50)"
   ]
  },
  {
   "cell_type": "code",
   "execution_count": 14,
   "metadata": {},
   "outputs": [],
   "source": [
    "#Fitting and transforming:\n",
    "\n",
    "terms_sub_2 = cvec_2.fit_transform(subreddit['title_selftext'])"
   ]
  },
  {
   "cell_type": "code",
   "execution_count": 15,
   "metadata": {},
   "outputs": [],
   "source": [
    "#Let's create a DF:\n",
    "\n",
    "terms_sub_df_2 = pd.DataFrame(terms_sub_2.toarray(), columns = cvec_2.get_feature_names())"
   ]
  },
  {
   "cell_type": "code",
   "execution_count": 16,
   "metadata": {},
   "outputs": [],
   "source": [
    "#Instering the the class column again:\n",
    "\n",
    "terms_sub_df_2.insert(0, 'target_subreddit', subr)"
   ]
  },
  {
   "cell_type": "code",
   "execution_count": 17,
   "metadata": {},
   "outputs": [],
   "source": [
    "#Sorting by the top 30 bigrams:\n",
    "\n",
    "top_bigrams = terms_sub_df_2.groupby('target_subreddit').mean().T.sort_values(0, ascending = False).head(20)"
   ]
  },
  {
   "cell_type": "code",
   "execution_count": 18,
   "metadata": {},
   "outputs": [
    {
     "data": {
      "image/png": "[encoded data removed]",
      "text/plain": [
       "<Figure size 1440x720 with 1 Axes>"
      ]
     },
     "metadata": {
      "needs_background": "light"
     },
     "output_type": "display_data"
    }
   ],
   "source": [
    "# Visualize the top words between each subreddit\n",
    "\n",
    "top_bigrams.plot(y=[0, 1], kind=\"barh\", figsize = (20,10))\n",
    "plt.title(\"Most Frequently Occuring Bigrams in Either Subreddit\", fontsize=20)\n",
    "plt.legend(labels=[\"AskScience\", \"Futurology\"], fontsize = 20);"
   ]
  },
  {
   "cell_type": "markdown",
   "metadata": {},
   "source": [
    "## We begin modeling in the next section of the workbook:"
   ]
  },
  {
   "cell_type": "code",
   "execution_count": 19,
   "metadata": {},
   "outputs": [],
   "source": [
    "#Creating a column for word counts:\n",
    "\n",
    "subreddit['word_count'] = subreddit['title_selftext'].map(lambda x: len(x.split()))"
   ]
  },
  {
   "cell_type": "code",
   "execution_count": 20,
   "metadata": {},
   "outputs": [],
   "source": [
    "#I learned how to use Sentiment Analyzer from YouTube:\n",
    "\n",
    "si = SentimentIntensityAnalyzer()"
   ]
  },
  {
   "cell_type": "code",
   "execution_count": 21,
   "metadata": {},
   "outputs": [],
   "source": [
    "#I'm creating a basic function to get the sentiment scores for a given post:\n",
    "\n",
    "def get_sentiment(post):\n",
    "    return si.polarity_scores(post)[\"compound\"]"
   ]
  },
  {
   "cell_type": "code",
   "execution_count": 22,
   "metadata": {},
   "outputs": [],
   "source": [
    "#Applying the function to the DF:\n",
    "\n",
    "subreddit[\"sentiment\"] = subreddit[\"title_selftext\"].apply(get_sentiment)"
   ]
  },
  {
   "cell_type": "code",
   "execution_count": 23,
   "metadata": {},
   "outputs": [
    {
     "data": {
      "text/plain": [
       "subreddit\n",
       "Futurology    0.112918\n",
       "askscience    0.028833\n",
       "Name: sentiment, dtype: float64"
      ]
     },
     "execution_count": 23,
     "metadata": {},
     "output_type": "execute_result"
    }
   ],
   "source": [
    "subreddit.groupby(\"subreddit\")[\"sentiment\"].mean()"
   ]
  },
  {
   "cell_type": "markdown",
   "metadata": {},
   "source": [
    "## Stemming our Words!"
   ]
  },
  {
   "cell_type": "code",
   "execution_count": 24,
   "metadata": {},
   "outputs": [],
   "source": [
    "#Instantiate our PorterStemmer\n",
    "\n",
    "pstemmer = PorterStemmer()"
   ]
  },
  {
   "cell_type": "code",
   "execution_count": 25,
   "metadata": {},
   "outputs": [],
   "source": [
    "#I Google'd how to apply to a PortStem to a column in Pandas for each word in that column, and this answer/code\n",
    "#came from StackOverflow:\n",
    "\n",
    "def stem_words(sentence):\n",
    "    token = sentence.split() #Splits on each word in a sentence\n",
    "    stem_tokens = [pstemmer.stem(i) for i in token]\n",
    "    return ' '.join(stem_tokens)\n",
    "\n",
    "subreddit[\"stem_words\"] = subreddit[\"title_selftext\"].apply(stem_words)"
   ]
  },
  {
   "cell_type": "markdown",
   "metadata": {},
   "source": [
    "### At last, we can set up our X and y variables, and begin the modeling process"
   ]
  },
  {
   "cell_type": "code",
   "execution_count": 26,
   "metadata": {},
   "outputs": [],
   "source": [
    "#Reminder:\n",
    "# 1 = 'Futurology'\n",
    "# 0 = 'AskScience'\n",
    "\n",
    "subreddit[\"subreddit\"] = np.where(subreddit[\"subreddit\"] == \"Futurology\", 1, 0)"
   ]
  },
  {
   "cell_type": "code",
   "execution_count": 27,
   "metadata": {},
   "outputs": [],
   "source": [
    "X = subreddit[[\"stem_words\", \"word_count\", \"sentiment\"]]\n",
    "y = subreddit[\"subreddit\"]"
   ]
  },
  {
   "cell_type": "code",
   "execution_count": 28,
   "metadata": {},
   "outputs": [],
   "source": [
    "#Splitting our data into train and test:\n",
    "\n",
    "X_train, X_test, y_train, y_test = train_test_split(X, y, stratify = y, random_state = 42)"
   ]
  },
  {
   "cell_type": "code",
   "execution_count": 29,
   "metadata": {},
   "outputs": [
    {
     "data": {
      "text/plain": [
       "0    0.503204\n",
       "1    0.496796\n",
       "Name: subreddit, dtype: float64"
      ]
     },
     "execution_count": 29,
     "metadata": {},
     "output_type": "execute_result"
    }
   ],
   "source": [
    "y.value_counts(normalize = True)"
   ]
  },
  {
   "cell_type": "code",
   "execution_count": 30,
   "metadata": {},
   "outputs": [],
   "source": [
    "#Creating a function to return the columns that we want to use in our model:\n",
    "\n",
    "text_data = FunctionTransformer(lambda x: x[\"stem_words\"], validate = False)\n",
    "numerica_data = FunctionTransformer(lambda x: x[[\"word_count\", \"sentiment\"]], validate = False)"
   ]
  },
  {
   "cell_type": "code",
   "execution_count": 31,
   "metadata": {},
   "outputs": [],
   "source": [
    "#We're going to model with Logistic Regression:\n",
    "\n",
    "pipe = Pipeline([\n",
    "    ('features', FeatureUnion([\n",
    "            ('numeric_features', Pipeline([\n",
    "                ('selector', numerica_data),\n",
    "                ('ss', StandardScaler())\n",
    "            ])),\n",
    "            ('text_features', Pipeline([\n",
    "                ('selector', text_data),\n",
    "                ('tvec', TfidfVectorizer(ngram_range = (1, 2), stop_words = text.ENGLISH_STOP_WORDS.union(time_stopwords)))\n",
    "            ]))\n",
    "    ])),\n",
    "    ('lr', LogisticRegression(penalty = \"l2\", C = 1, solver = \"liblinear\"))\n",
    "])\n",
    "\n",
    "params = {}\n",
    "\n",
    "gs_pipeline = GridSearchCV(pipe, params, cv = 5)"
   ]
  },
  {
   "cell_type": "code",
   "execution_count": 32,
   "metadata": {},
   "outputs": [
    {
     "data": {
      "text/plain": [
       "GridSearchCV(cv=5,\n",
       "             estimator=Pipeline(steps=[('features',\n",
       "                                        FeatureUnion(transformer_list=[('numeric_features',\n",
       "                                                                        Pipeline(steps=[('selector',\n",
       "                                                                                         FunctionTransformer(func=<function <lambda> at 0x1a2ced78c0>)),\n",
       "                                                                                        ('ss',\n",
       "                                                                                         StandardScaler())])),\n",
       "                                                                       ('text_features',\n",
       "                                                                        Pipeline(steps=[('selector',\n",
       "                                                                                         FunctionTransformer(func=<function <lambda> at 0x1a2ced77a0>)),\n",
       "                                                                                        ('tvec',\n",
       "                                                                                         TfidfVectorizer...\n",
       "                                                                                                         stop_words=frozenset({'a',\n",
       "                                                                                                                               'about',\n",
       "                                                                                                                               'above',\n",
       "                                                                                                                               'across',\n",
       "                                                                                                                               'after',\n",
       "                                                                                                                               'afterwards',\n",
       "                                                                                                                               'again',\n",
       "                                                                                                                               'against',\n",
       "                                                                                                                               'all',\n",
       "                                                                                                                               'almost',\n",
       "                                                                                                                               'alone',\n",
       "                                                                                                                               'along',\n",
       "                                                                                                                               'already',\n",
       "                                                                                                                               'also',\n",
       "                                                                                                                               'although',\n",
       "                                                                                                                               'always',\n",
       "                                                                                                                               'am',\n",
       "                                                                                                                               'among',\n",
       "                                                                                                                               'amongst',\n",
       "                                                                                                                               'amoungst',\n",
       "                                                                                                                               'amount',\n",
       "                                                                                                                               'an',\n",
       "                                                                                                                               'and',\n",
       "                                                                                                                               'another',\n",
       "                                                                                                                               'any',\n",
       "                                                                                                                               'anyhow',\n",
       "                                                                                                                               'anyone',\n",
       "                                                                                                                               'anything',\n",
       "                                                                                                                               'anyway',\n",
       "                                                                                                                               'anywhere', ...})))]))])),\n",
       "                                       ('lr',\n",
       "                                        LogisticRegression(C=1,\n",
       "                                                           solver='liblinear'))]),\n",
       "             param_grid={})"
      ]
     },
     "execution_count": 32,
     "metadata": {},
     "output_type": "execute_result"
    }
   ],
   "source": [
    "gs_pipeline.fit(X_train, y_train)"
   ]
  },
  {
   "cell_type": "code",
   "execution_count": 33,
   "metadata": {},
   "outputs": [],
   "source": [
    "#Best estimator:\n",
    "\n",
    "gs_best_model = gs_pipeline.best_estimator_"
   ]
  },
  {
   "cell_type": "code",
   "execution_count": 34,
   "metadata": {},
   "outputs": [
    {
     "name": "stdout",
     "output_type": "stream",
     "text": [
      "0.9622948596229486\n",
      "0.871440195280716\n"
     ]
    }
   ],
   "source": [
    "#Checking the scores on our train/test model:\n",
    "\n",
    "print(gs_best_model.score(X_train, y_train))\n",
    "print(gs_best_model.score(X_test, y_test))"
   ]
  },
  {
   "cell_type": "code",
   "execution_count": 35,
   "metadata": {},
   "outputs": [],
   "source": [
    "#Evaluating our model:\n",
    "#Generating our predictions\n",
    "\n",
    "y_preds = gs_best_model.predict(X_test)"
   ]
  },
  {
   "cell_type": "code",
   "execution_count": 36,
   "metadata": {},
   "outputs": [],
   "source": [
    "#Creating a function to look at the coefficients \n",
    "#This is not my code, it was created as a collaboration with classmates Clint, Jason, Jonathan, and Daniel (especially Daniel):\n",
    "\n",
    "def coef_scores(y_test, preds, classes):\n",
    "    coef = confusion_matrix(y_test, preds)\n",
    "    print(f'Accuracy: {accuracy_score(y_test, preds)}')\n",
    "    return pd.DataFrame(coef, columns=['Predicted ' +class_ for class_ in classes], \\\n",
    "                index=['Actual '+ class_ for class_ in classes])"
   ]
  },
  {
   "cell_type": "code",
   "execution_count": 37,
   "metadata": {},
   "outputs": [
    {
     "name": "stdout",
     "output_type": "stream",
     "text": [
      "Accuracy: 0.871440195280716\n"
     ]
    },
    {
     "data": {
      "text/html": [
       "<div>\n",
       "<style scoped>\n",
       "    .dataframe tbody tr th:only-of-type {\n",
       "        vertical-align: middle;\n",
       "    }\n",
       "\n",
       "    .dataframe tbody tr th {\n",
       "        vertical-align: top;\n",
       "    }\n",
       "\n",
       "    .dataframe thead th {\n",
       "        text-align: right;\n",
       "    }\n",
       "</style>\n",
       "<table border=\"1\" class=\"dataframe\">\n",
       "  <thead>\n",
       "    <tr style=\"text-align: right;\">\n",
       "      <th></th>\n",
       "      <th>Predicted ShittyLifeProTips</th>\n",
       "      <th>Predicted LifeProTips</th>\n",
       "    </tr>\n",
       "  </thead>\n",
       "  <tbody>\n",
       "    <tr>\n",
       "      <th>Actual ShittyLifeProTips</th>\n",
       "      <td>1088</td>\n",
       "      <td>149</td>\n",
       "    </tr>\n",
       "    <tr>\n",
       "      <th>Actual LifeProTips</th>\n",
       "      <td>167</td>\n",
       "      <td>1054</td>\n",
       "    </tr>\n",
       "  </tbody>\n",
       "</table>\n",
       "</div>"
      ],
      "text/plain": [
       "                          Predicted ShittyLifeProTips  Predicted LifeProTips\n",
       "Actual ShittyLifeProTips                         1088                    149\n",
       "Actual LifeProTips                                167                   1054"
      ]
     },
     "execution_count": 37,
     "metadata": {},
     "output_type": "execute_result"
    }
   ],
   "source": [
    "coef_scores(y_test, y_preds, ['ShittyLifeProTips', 'LifeProTips'])"
   ]
  },
  {
   "cell_type": "code",
   "execution_count": 38,
   "metadata": {},
   "outputs": [],
   "source": [
    "#Looking at the coefficients of our model:\n",
    "\n",
    "coefs = gs_best_model.named_steps[\"lr\"].coef_[0]"
   ]
  },
  {
   "cell_type": "code",
   "execution_count": 39,
   "metadata": {},
   "outputs": [],
   "source": [
    "#Feature names:\n",
    "\n",
    "features = [\"word_count\", \"sentiment\"]\n",
    "features.extend(gs_best_model.named_steps['features'].transformer_list[1][1].named_steps['tvec'].get_feature_names())"
   ]
  },
  {
   "cell_type": "code",
   "execution_count": 40,
   "metadata": {},
   "outputs": [],
   "source": [
    "#Just for visual clarity, I'm going to create a dataframe of our feature names and coefficients.\n",
    "#This may be helpful for visualizations later for the presentation portion of the project:\n",
    "\n",
    "coef_df = pd.DataFrame({'features' : features, \"coeffs\" : coefs, 'absolute_coefs': np.abs(coefs)})"
   ]
  },
  {
   "cell_type": "code",
   "execution_count": 41,
   "metadata": {},
   "outputs": [
    {
     "data": {
      "text/html": [
       "<div>\n",
       "<style scoped>\n",
       "    .dataframe tbody tr th:only-of-type {\n",
       "        vertical-align: middle;\n",
       "    }\n",
       "\n",
       "    .dataframe tbody tr th {\n",
       "        vertical-align: top;\n",
       "    }\n",
       "\n",
       "    .dataframe thead th {\n",
       "        text-align: right;\n",
       "    }\n",
       "</style>\n",
       "<table border=\"1\" class=\"dataframe\">\n",
       "  <thead>\n",
       "    <tr style=\"text-align: right;\">\n",
       "      <th></th>\n",
       "      <th>features</th>\n",
       "      <th>coeffs</th>\n",
       "      <th>absolute_coefs</th>\n",
       "    </tr>\n",
       "  </thead>\n",
       "  <tbody>\n",
       "    <tr>\n",
       "      <th>0</th>\n",
       "      <td>word_count</td>\n",
       "      <td>1.173801</td>\n",
       "      <td>1.173801</td>\n",
       "    </tr>\n",
       "    <tr>\n",
       "      <th>1</th>\n",
       "      <td>sentiment</td>\n",
       "      <td>0.131361</td>\n",
       "      <td>0.131361</td>\n",
       "    </tr>\n",
       "    <tr>\n",
       "      <th>2</th>\n",
       "      <td>aa</td>\n",
       "      <td>-0.196364</td>\n",
       "      <td>0.196364</td>\n",
       "    </tr>\n",
       "    <tr>\n",
       "      <th>3</th>\n",
       "      <td>aa batteri</td>\n",
       "      <td>-0.143112</td>\n",
       "      <td>0.143112</td>\n",
       "    </tr>\n",
       "    <tr>\n",
       "      <th>4</th>\n",
       "      <td>aa meet</td>\n",
       "      <td>-0.062293</td>\n",
       "      <td>0.062293</td>\n",
       "    </tr>\n",
       "  </tbody>\n",
       "</table>\n",
       "</div>"
      ],
      "text/plain": [
       "     features    coeffs  absolute_coefs\n",
       "0  word_count  1.173801        1.173801\n",
       "1   sentiment  0.131361        0.131361\n",
       "2          aa -0.196364        0.196364\n",
       "3  aa batteri -0.143112        0.143112\n",
       "4     aa meet -0.062293        0.062293"
      ]
     },
     "execution_count": 41,
     "metadata": {},
     "output_type": "execute_result"
    }
   ],
   "source": [
    "coef_df.head()"
   ]
  },
  {
   "cell_type": "code",
   "execution_count": 42,
   "metadata": {},
   "outputs": [
    {
     "data": {
      "text/plain": [
       "(80829, 3)"
      ]
     },
     "execution_count": 42,
     "metadata": {},
     "output_type": "execute_result"
    }
   ],
   "source": [
    "coef_df.shape"
   ]
  },
  {
   "cell_type": "code",
   "execution_count": 43,
   "metadata": {},
   "outputs": [
    {
     "data": {
      "image/png": "[encoded data removed]",
      "text/plain": [
       "<Figure size 1008x720 with 1 Axes>"
      ]
     },
     "metadata": {
      "needs_background": "light"
     },
     "output_type": "display_data"
    }
   ],
   "source": [
    "#Let's graph this to show the most important weights:\n",
    "\n",
    "ex_df = coef_df.sort_values('absolute_coefs', ascending = False)\n",
    "ex_df = ex_df.reset_index(drop = True)\n",
    "ex_df = ex_df.set_index('features')\n",
    "ex_df = ex_df[ex_df['absolute_coefs'] != 0] #We do not care about coefficients of 0\n",
    "ex_df.head(20)\n",
    "weights = ex_df['absolute_coefs'].head(30).sort_values()\n",
    "labels = weights.index\n",
    "plt.figure(figsize = (14, 10))\n",
    "plt.barh(labels, weights)\n",
    "plt.yticks(fontsize = 18)\n",
    "plt.xticks(fontsize = 18)\n",
    "plt.xlabel('Weights', fontsize = 24)\n",
    "plt.title(\"Important Weights & Features\", fontsize = 24)\n",
    "plt.tight_layout();"
   ]
  },
  {
   "cell_type": "code",
   "execution_count": 44,
   "metadata": {},
   "outputs": [],
   "source": [
    "#Modeling with Random Forest:\n",
    "\n",
    "X = subreddit['stem_words']\n",
    "y = subreddit['subreddit']"
   ]
  },
  {
   "cell_type": "code",
   "execution_count": 45,
   "metadata": {},
   "outputs": [],
   "source": [
    "#Splitting again:\n",
    "\n",
    "X_train, X_test, y_train, y_test = train_test_split(X, y, stratify = y, random_state = 42)"
   ]
  },
  {
   "cell_type": "code",
   "execution_count": 46,
   "metadata": {},
   "outputs": [],
   "source": [
    "#Instantiate our model:\n",
    "\n",
    "rf = Pipeline([\n",
    "    (\"tvec\", TfidfVectorizer()),\n",
    "    (\"rf\",RandomForestClassifier(random_state = 42))])"
   ]
  },
  {
   "cell_type": "code",
   "execution_count": 47,
   "metadata": {},
   "outputs": [],
   "source": [
    "#Hyperparameters:\n",
    "\n",
    "rf_params = {\n",
    "    \"tvec__max_features\": [500], # max features 100 and 500\n",
    "    \"tvec__ngram_range\": [(1,2)], # ngram default and ngrams 2 and 3\n",
    "    \"tvec__stop_words\": [text.ENGLISH_STOP_WORDS.union(time_stopwords)], \n",
    "    \"rf__n_estimators\": [125],\n",
    "    \"rf__max_depth\": [6],\n",
    "    \"rf__max_features\": [\"auto\"]\n",
    "}"
   ]
  },
  {
   "cell_type": "code",
   "execution_count": 48,
   "metadata": {},
   "outputs": [],
   "source": [
    "#Grid Searching:\n",
    "\n",
    "rf_gs = GridSearchCV(\n",
    "    rf, \n",
    "    param_grid = rf_params,\n",
    "    cv = 5\n",
    ")"
   ]
  },
  {
   "cell_type": "code",
   "execution_count": 49,
   "metadata": {},
   "outputs": [
    {
     "data": {
      "text/plain": [
       "GridSearchCV(cv=5,\n",
       "             estimator=Pipeline(steps=[('tvec', TfidfVectorizer()),\n",
       "                                       ('rf',\n",
       "                                        RandomForestClassifier(random_state=42))]),\n",
       "             param_grid={'rf__max_depth': [6], 'rf__max_features': ['auto'],\n",
       "                         'rf__n_estimators': [125], 'tvec__max_features': [500],\n",
       "                         'tvec__ngram_range': [(1, 2)],\n",
       "                         'tvec__stop_words': [frozenset({'a', 'about', 'above',\n",
       "                                                         'across', 'after',\n",
       "                                                         'afterwards', 'again',\n",
       "                                                         'against', 'all',\n",
       "                                                         'almost', 'alone',\n",
       "                                                         'along', 'already',\n",
       "                                                         'also', 'although',\n",
       "                                                         'always', 'am',\n",
       "                                                         'among', 'amongst',\n",
       "                                                         'amoungst', 'amount',\n",
       "                                                         'an', 'and', 'another',\n",
       "                                                         'any', 'anyhow',\n",
       "                                                         'anyone', 'anything',\n",
       "                                                         'anyway', 'anywhere', ...})]})"
      ]
     },
     "execution_count": 49,
     "metadata": {},
     "output_type": "execute_result"
    }
   ],
   "source": [
    "#Fitting our model:\n",
    "\n",
    "rf_gs.fit(X_train, y_train)"
   ]
  },
  {
   "cell_type": "code",
   "execution_count": 50,
   "metadata": {},
   "outputs": [],
   "source": [
    "#Saving our best model:\n",
    "\n",
    "rf_best_model = rf_gs.best_estimator_"
   ]
  },
  {
   "cell_type": "code",
   "execution_count": 51,
   "metadata": {},
   "outputs": [
    {
     "name": "stdout",
     "output_type": "stream",
     "text": [
      "0.7760748677607486\n",
      "0.7697314890154597\n"
     ]
    }
   ],
   "source": [
    "#Checking our scores:\n",
    "\n",
    "print(rf_best_model.score(X_train, y_train))\n",
    "print(rf_best_model.score(X_test, y_test))"
   ]
  },
  {
   "cell_type": "code",
   "execution_count": 52,
   "metadata": {},
   "outputs": [],
   "source": [
    "#Multinomial Naive Bayes model:\n",
    "\n",
    "cvec_4 = CountVectorizer()\n",
    "mnb = MultinomialNB()"
   ]
  },
  {
   "cell_type": "code",
   "execution_count": 53,
   "metadata": {},
   "outputs": [],
   "source": [
    "train_data_features_4 = cvec_4.fit_transform(X_train)"
   ]
  },
  {
   "cell_type": "code",
   "execution_count": 54,
   "metadata": {},
   "outputs": [],
   "source": [
    "test_data_features_4 = cvec_4.transform(X_test)"
   ]
  },
  {
   "cell_type": "code",
   "execution_count": 55,
   "metadata": {},
   "outputs": [
    {
     "data": {
      "text/plain": [
       "MultinomialNB()"
      ]
     },
     "execution_count": 55,
     "metadata": {},
     "output_type": "execute_result"
    }
   ],
   "source": [
    "#Fitting our Multinomial NB to our data:\n",
    "\n",
    "mnb.fit(train_data_features_4, y_train)"
   ]
  },
  {
   "cell_type": "code",
   "execution_count": 56,
   "metadata": {},
   "outputs": [
    {
     "name": "stdout",
     "output_type": "stream",
     "text": [
      "0.9305574393055744\n",
      "0.871440195280716\n"
     ]
    }
   ],
   "source": [
    "print(mnb.score(train_data_features_4, y_train))\n",
    "print(mnb.score(test_data_features_4, y_test))"
   ]
  },
  {
   "cell_type": "code",
   "execution_count": null,
   "metadata": {},
   "outputs": [],
   "source": []
  }
 ],
 "metadata": {
  "kernelspec": {
   "display_name": "Python 3",
   "language": "python",
   "name": "python3"
  },
  "language_info": {
   "codemirror_mode": {
    "name": "ipython",
    "version": 3
   },
   "file_extension": ".py",
   "mimetype": "text/x-python",
   "name": "python",
   "nbconvert_exporter": "python",
   "pygments_lexer": "ipython3",
   "version": "3.7.6"
  }
 },
 "nbformat": 4,
 "nbformat_minor": 4
}
